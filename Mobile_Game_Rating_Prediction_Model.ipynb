{
  "nbformat": 4,
  "nbformat_minor": 0,
  "metadata": {
    "colab": {
      "name": "Untitled0.ipynb",
      "provenance": [],
      "collapsed_sections": [],
      "toc_visible": true
    },
    "kernelspec": {
      "name": "python3",
      "display_name": "Python 3"
    },
    "language_info": {
      "name": "python"
    }
  },
  "cells": [
    {
      "cell_type": "markdown",
      "source": [
        "# 2021 가을학기 기계학습 프로젝트 - 2018320150 이유빈"
      ],
      "metadata": {
        "id": "SR8sUuDPn4Em"
      }
    },
    {
      "cell_type": "markdown",
      "source": [
        "## 1. 개요"
      ],
      "metadata": {
        "id": "GvTq3nh4hkcy"
      }
    },
    {
      "cell_type": "markdown",
      "source": [
        " 스마트폰이 전세계적으로 대중화되며, 모바일 게임 시장의 규모 또한 나날이 커지고 있다. 수많은 게임 회사에서 다양한 장르의 새로운 게임을 출시하지만, 어떤 게임은 좋은 평가를 받고 어떤 게임은 부정적인 평가를 받는다. 이는 앱스토어에 등록된 평점을 통해서 직관적으로 확인할 수 있다. \n",
        " \n",
        " 이번 프로젝트를 통해 게임의 장르, 제작사, 과금 요소, 출시 연도 등의 요소를 통해 게임의 평가를 예측하는 기계학습 모델을 MLPClassifier, K-Nearest Neighbors, BaggingClassifier를 이용하여 각각 구현하고 비교해보았다."
      ],
      "metadata": {
        "id": "REuuG7drhune"
      }
    },
    {
      "cell_type": "markdown",
      "source": [
        "##2. Dataset 소개"
      ],
      "metadata": {
        "id": "LjOj5qOejFyv"
      }
    },
    {
      "cell_type": "markdown",
      "source": [
        "사용한 Dataset은 kaggle에서 제공한 17K Mobile Strategy Games( https://www.kaggle.com/tristan581/17k-apple-app-store-strategy-games ) 로, 약 17000개의 instance와 총 18개의 feature를 가지고 있다.\n",
        "\n",
        "> 들여쓴 블록\n",
        "\n",
        "\n",
        "\n"
      ],
      "metadata": {
        "id": "BsPqcKFYjOZ6"
      }
    },
    {
      "cell_type": "code",
      "source": [
        "import pandas as pd\n",
        "import numpy as np"
      ],
      "metadata": {
        "id": "6WU0pSb-n8Ri"
      },
      "execution_count": 1,
      "outputs": []
    },
    {
      "cell_type": "code",
      "source": [
        "from google.colab import files\n",
        "uploaded = files.upload() #appstore_games.csv 파일을 디렉토리에서 직접 선택해서 코랩에 업로드하였다."
      ],
      "metadata": {
        "colab": {
          "resources": {
            "http://localhost:8080/nbextensions/google.colab/files.js": {
              "data": "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",
              "ok": true,
              "headers": [
                [
                  "content-type",
                  "application/javascript"
                ]
              ],
              "status": 200,
              "status_text": ""
            }
          },
          "base_uri": "https://localhost:8080/",
          "height": 77
        },
        "id": "FQEi06y5evxg",
        "outputId": "c19e9b1a-c713-4451-9506-a26521522388"
      },
      "execution_count": 2,
      "outputs": [
        {
          "output_type": "display_data",
          "data": {
            "text/html": [
              "\n",
              "     <input type=\"file\" id=\"files-ce46831d-5451-4823-af7b-a742540e3241\" name=\"files[]\" multiple disabled\n",
              "        style=\"border:none\" />\n",
              "     <output id=\"result-ce46831d-5451-4823-af7b-a742540e3241\">\n",
              "      Upload widget is only available when the cell has been executed in the\n",
              "      current browser session. Please rerun this cell to enable.\n",
              "      </output>\n",
              "      <script src=\"/nbextensions/google.colab/files.js\"></script> "
            ],
            "text/plain": [
              "<IPython.core.display.HTML object>"
            ]
          },
          "metadata": {}
        },
        {
          "output_type": "stream",
          "name": "stdout",
          "text": [
            "Saving appstore_games.csv to appstore_games.csv\n"
          ]
        }
      ]
    },
    {
      "cell_type": "code",
      "source": [
        "origin_data = pd.read_csv('appstore_games.csv') #업로드된 csv파일을 불러온다.\n",
        "\n",
        "origin_data.head()"
      ],
      "metadata": {
        "colab": {
          "base_uri": "https://localhost:8080/",
          "height": 669
        },
        "id": "hClAjDwwnjQh",
        "outputId": "869b42a7-f292-48fe-a974-37ffa4509299"
      },
      "execution_count": 3,
      "outputs": [
        {
          "output_type": "execute_result",
          "data": {
            "text/html": [
              "\n",
              "  <div id=\"df-12f47270-2966-4fa9-896c-88d352d947c8\">\n",
              "    <div class=\"colab-df-container\">\n",
              "      <div>\n",
              "<style scoped>\n",
              "    .dataframe tbody tr th:only-of-type {\n",
              "        vertical-align: middle;\n",
              "    }\n",
              "\n",
              "    .dataframe tbody tr th {\n",
              "        vertical-align: top;\n",
              "    }\n",
              "\n",
              "    .dataframe thead th {\n",
              "        text-align: right;\n",
              "    }\n",
              "</style>\n",
              "<table border=\"1\" class=\"dataframe\">\n",
              "  <thead>\n",
              "    <tr style=\"text-align: right;\">\n",
              "      <th></th>\n",
              "      <th>URL</th>\n",
              "      <th>ID</th>\n",
              "      <th>Name</th>\n",
              "      <th>Subtitle</th>\n",
              "      <th>Icon URL</th>\n",
              "      <th>Average User Rating</th>\n",
              "      <th>User Rating Count</th>\n",
              "      <th>Price</th>\n",
              "      <th>In-app Purchases</th>\n",
              "      <th>Description</th>\n",
              "      <th>Developer</th>\n",
              "      <th>Age Rating</th>\n",
              "      <th>Languages</th>\n",
              "      <th>Size</th>\n",
              "      <th>Primary Genre</th>\n",
              "      <th>Genres</th>\n",
              "      <th>Original Release Date</th>\n",
              "      <th>Current Version Release Date</th>\n",
              "    </tr>\n",
              "  </thead>\n",
              "  <tbody>\n",
              "    <tr>\n",
              "      <th>0</th>\n",
              "      <td>https://apps.apple.com/us/app/sudoku/id284921427</td>\n",
              "      <td>284921427</td>\n",
              "      <td>Sudoku</td>\n",
              "      <td>NaN</td>\n",
              "      <td>https://is2-ssl.mzstatic.com/image/thumb/Purpl...</td>\n",
              "      <td>4.0</td>\n",
              "      <td>3553.0</td>\n",
              "      <td>2.99</td>\n",
              "      <td>NaN</td>\n",
              "      <td>Join over 21,000,000 of our fans and download ...</td>\n",
              "      <td>Mighty Mighty Good Games</td>\n",
              "      <td>4+</td>\n",
              "      <td>DA, NL, EN, FI, FR, DE, IT, JA, KO, NB, PL, PT...</td>\n",
              "      <td>15853568.0</td>\n",
              "      <td>Games</td>\n",
              "      <td>Games, Strategy, Puzzle</td>\n",
              "      <td>11/07/2008</td>\n",
              "      <td>30/05/2017</td>\n",
              "    </tr>\n",
              "    <tr>\n",
              "      <th>1</th>\n",
              "      <td>https://apps.apple.com/us/app/reversi/id284926400</td>\n",
              "      <td>284926400</td>\n",
              "      <td>Reversi</td>\n",
              "      <td>NaN</td>\n",
              "      <td>https://is4-ssl.mzstatic.com/image/thumb/Purpl...</td>\n",
              "      <td>3.5</td>\n",
              "      <td>284.0</td>\n",
              "      <td>1.99</td>\n",
              "      <td>NaN</td>\n",
              "      <td>The classic game of Reversi, also known as Oth...</td>\n",
              "      <td>Kiss The Machine</td>\n",
              "      <td>4+</td>\n",
              "      <td>EN</td>\n",
              "      <td>12328960.0</td>\n",
              "      <td>Games</td>\n",
              "      <td>Games, Strategy, Board</td>\n",
              "      <td>11/07/2008</td>\n",
              "      <td>17/05/2018</td>\n",
              "    </tr>\n",
              "    <tr>\n",
              "      <th>2</th>\n",
              "      <td>https://apps.apple.com/us/app/morocco/id284946595</td>\n",
              "      <td>284946595</td>\n",
              "      <td>Morocco</td>\n",
              "      <td>NaN</td>\n",
              "      <td>https://is5-ssl.mzstatic.com/image/thumb/Purpl...</td>\n",
              "      <td>3.0</td>\n",
              "      <td>8376.0</td>\n",
              "      <td>0.00</td>\n",
              "      <td>NaN</td>\n",
              "      <td>Play the classic strategy game Othello (also k...</td>\n",
              "      <td>Bayou Games</td>\n",
              "      <td>4+</td>\n",
              "      <td>EN</td>\n",
              "      <td>674816.0</td>\n",
              "      <td>Games</td>\n",
              "      <td>Games, Board, Strategy</td>\n",
              "      <td>11/07/2008</td>\n",
              "      <td>5/09/2017</td>\n",
              "    </tr>\n",
              "    <tr>\n",
              "      <th>3</th>\n",
              "      <td>https://apps.apple.com/us/app/sudoku-free/id28...</td>\n",
              "      <td>285755462</td>\n",
              "      <td>Sudoku (Free)</td>\n",
              "      <td>NaN</td>\n",
              "      <td>https://is3-ssl.mzstatic.com/image/thumb/Purpl...</td>\n",
              "      <td>3.5</td>\n",
              "      <td>190394.0</td>\n",
              "      <td>0.00</td>\n",
              "      <td>NaN</td>\n",
              "      <td>Top 100 free app for over a year.\\nRated \"Best...</td>\n",
              "      <td>Mighty Mighty Good Games</td>\n",
              "      <td>4+</td>\n",
              "      <td>DA, NL, EN, FI, FR, DE, IT, JA, KO, NB, PL, PT...</td>\n",
              "      <td>21552128.0</td>\n",
              "      <td>Games</td>\n",
              "      <td>Games, Strategy, Puzzle</td>\n",
              "      <td>23/07/2008</td>\n",
              "      <td>30/05/2017</td>\n",
              "    </tr>\n",
              "    <tr>\n",
              "      <th>4</th>\n",
              "      <td>https://apps.apple.com/us/app/senet-deluxe/id2...</td>\n",
              "      <td>285831220</td>\n",
              "      <td>Senet Deluxe</td>\n",
              "      <td>NaN</td>\n",
              "      <td>https://is1-ssl.mzstatic.com/image/thumb/Purpl...</td>\n",
              "      <td>3.5</td>\n",
              "      <td>28.0</td>\n",
              "      <td>2.99</td>\n",
              "      <td>NaN</td>\n",
              "      <td>\"Senet Deluxe - The Ancient Game of Life and A...</td>\n",
              "      <td>RoGame Software</td>\n",
              "      <td>4+</td>\n",
              "      <td>DA, NL, EN, FR, DE, EL, IT, JA, KO, NO, PT, RU...</td>\n",
              "      <td>34689024.0</td>\n",
              "      <td>Games</td>\n",
              "      <td>Games, Strategy, Board, Education</td>\n",
              "      <td>18/07/2008</td>\n",
              "      <td>22/07/2018</td>\n",
              "    </tr>\n",
              "  </tbody>\n",
              "</table>\n",
              "</div>\n",
              "      <button class=\"colab-df-convert\" onclick=\"convertToInteractive('df-12f47270-2966-4fa9-896c-88d352d947c8')\"\n",
              "              title=\"Convert this dataframe to an interactive table.\"\n",
              "              style=\"display:none;\">\n",
              "        \n",
              "  <svg xmlns=\"http://www.w3.org/2000/svg\" height=\"24px\"viewBox=\"0 0 24 24\"\n",
              "       width=\"24px\">\n",
              "    <path d=\"M0 0h24v24H0V0z\" fill=\"none\"/>\n",
              "    <path d=\"M18.56 5.44l.94 2.06.94-2.06 2.06-.94-2.06-.94-.94-2.06-.94 2.06-2.06.94zm-11 1L8.5 8.5l.94-2.06 2.06-.94-2.06-.94L8.5 2.5l-.94 2.06-2.06.94zm10 10l.94 2.06.94-2.06 2.06-.94-2.06-.94-.94-2.06-.94 2.06-2.06.94z\"/><path d=\"M17.41 7.96l-1.37-1.37c-.4-.4-.92-.59-1.43-.59-.52 0-1.04.2-1.43.59L10.3 9.45l-7.72 7.72c-.78.78-.78 2.05 0 2.83L4 21.41c.39.39.9.59 1.41.59.51 0 1.02-.2 1.41-.59l7.78-7.78 2.81-2.81c.8-.78.8-2.07 0-2.86zM5.41 20L4 18.59l7.72-7.72 1.47 1.35L5.41 20z\"/>\n",
              "  </svg>\n",
              "      </button>\n",
              "      \n",
              "  <style>\n",
              "    .colab-df-container {\n",
              "      display:flex;\n",
              "      flex-wrap:wrap;\n",
              "      gap: 12px;\n",
              "    }\n",
              "\n",
              "    .colab-df-convert {\n",
              "      background-color: #E8F0FE;\n",
              "      border: none;\n",
              "      border-radius: 50%;\n",
              "      cursor: pointer;\n",
              "      display: none;\n",
              "      fill: #1967D2;\n",
              "      height: 32px;\n",
              "      padding: 0 0 0 0;\n",
              "      width: 32px;\n",
              "    }\n",
              "\n",
              "    .colab-df-convert:hover {\n",
              "      background-color: #E2EBFA;\n",
              "      box-shadow: 0px 1px 2px rgba(60, 64, 67, 0.3), 0px 1px 3px 1px rgba(60, 64, 67, 0.15);\n",
              "      fill: #174EA6;\n",
              "    }\n",
              "\n",
              "    [theme=dark] .colab-df-convert {\n",
              "      background-color: #3B4455;\n",
              "      fill: #D2E3FC;\n",
              "    }\n",
              "\n",
              "    [theme=dark] .colab-df-convert:hover {\n",
              "      background-color: #434B5C;\n",
              "      box-shadow: 0px 1px 3px 1px rgba(0, 0, 0, 0.15);\n",
              "      filter: drop-shadow(0px 1px 2px rgba(0, 0, 0, 0.3));\n",
              "      fill: #FFFFFF;\n",
              "    }\n",
              "  </style>\n",
              "\n",
              "      <script>\n",
              "        const buttonEl =\n",
              "          document.querySelector('#df-12f47270-2966-4fa9-896c-88d352d947c8 button.colab-df-convert');\n",
              "        buttonEl.style.display =\n",
              "          google.colab.kernel.accessAllowed ? 'block' : 'none';\n",
              "\n",
              "        async function convertToInteractive(key) {\n",
              "          const element = document.querySelector('#df-12f47270-2966-4fa9-896c-88d352d947c8');\n",
              "          const dataTable =\n",
              "            await google.colab.kernel.invokeFunction('convertToInteractive',\n",
              "                                                     [key], {});\n",
              "          if (!dataTable) return;\n",
              "\n",
              "          const docLinkHtml = 'Like what you see? Visit the ' +\n",
              "            '<a target=\"_blank\" href=https://colab.research.google.com/notebooks/data_table.ipynb>data table notebook</a>'\n",
              "            + ' to learn more about interactive tables.';\n",
              "          element.innerHTML = '';\n",
              "          dataTable['output_type'] = 'display_data';\n",
              "          await google.colab.output.renderOutput(dataTable, element);\n",
              "          const docLink = document.createElement('div');\n",
              "          docLink.innerHTML = docLinkHtml;\n",
              "          element.appendChild(docLink);\n",
              "        }\n",
              "      </script>\n",
              "    </div>\n",
              "  </div>\n",
              "  "
            ],
            "text/plain": [
              "                                                 URL  ...  Current Version Release Date\n",
              "0   https://apps.apple.com/us/app/sudoku/id284921427  ...                    30/05/2017\n",
              "1  https://apps.apple.com/us/app/reversi/id284926400  ...                    17/05/2018\n",
              "2  https://apps.apple.com/us/app/morocco/id284946595  ...                     5/09/2017\n",
              "3  https://apps.apple.com/us/app/sudoku-free/id28...  ...                    30/05/2017\n",
              "4  https://apps.apple.com/us/app/senet-deluxe/id2...  ...                    22/07/2018\n",
              "\n",
              "[5 rows x 18 columns]"
            ]
          },
          "metadata": {},
          "execution_count": 3
        }
      ]
    },
    {
      "cell_type": "code",
      "source": [
        "origin_data.dtypes"
      ],
      "metadata": {
        "colab": {
          "base_uri": "https://localhost:8080/"
        },
        "id": "CZ1ytdN7nrGk",
        "outputId": "2f7111ec-721d-478a-a9cb-6a0a998f173e"
      },
      "execution_count": 4,
      "outputs": [
        {
          "output_type": "execute_result",
          "data": {
            "text/plain": [
              "URL                              object\n",
              "ID                                int64\n",
              "Name                             object\n",
              "Subtitle                         object\n",
              "Icon URL                         object\n",
              "Average User Rating             float64\n",
              "User Rating Count               float64\n",
              "Price                           float64\n",
              "In-app Purchases                 object\n",
              "Description                      object\n",
              "Developer                        object\n",
              "Age Rating                       object\n",
              "Languages                        object\n",
              "Size                            float64\n",
              "Primary Genre                    object\n",
              "Genres                           object\n",
              "Original Release Date            object\n",
              "Current Version Release Date     object\n",
              "dtype: object"
            ]
          },
          "metadata": {},
          "execution_count": 4
        }
      ]
    },
    {
      "cell_type": "markdown",
      "source": [
        "이 중 label data로는 게임의 평점을 1에서 5 사이의 수로 나타내는 Average User Rating을 사용할 것이다. 평점에 영향을 미칠 것이라고 예상되는 Feature들엔 Price, In-app Purchases, Developer, Languages, Size, Genres, Original Release Date, Current Version Release Date가 있다. 각각의 Column들을 전처리하여 모델링에 사용할 것이다."
      ],
      "metadata": {
        "id": "_p1AKTiVkLSn"
      }
    },
    {
      "cell_type": "markdown",
      "source": [
        "## 3. Preprocessing"
      ],
      "metadata": {
        "id": "dzteUxKmn0Mh"
      }
    },
    {
      "cell_type": "code",
      "source": [
        "data = origin_data\n",
        "data = data[['Average User Rating', 'Price', 'In-app Purchases', 'Developer', 'Languages', 'Size', 'Genres', 'Original Release Date', 'Current Version Release Date']]"
      ],
      "metadata": {
        "id": "Bd0NeM94lTN8"
      },
      "execution_count": 5,
      "outputs": []
    },
    {
      "cell_type": "markdown",
      "source": [
        "###In-app Purchases\n",
        "\n",
        "In-app Purchases는 게임이 포함한 결제 상품들의 가격들을 나타내고, 이러한 과금 요소가 없는 게임의 경우 NAN이 저장되어 있다. 이번 프로젝트에서는 과금 요소의 유/무를 feature로 사용하고자 한다."
      ],
      "metadata": {
        "id": "qw3WcGJBlssJ"
      }
    },
    {
      "cell_type": "code",
      "source": [
        "from sklearn.preprocessing import LabelEncoder\n",
        "le = LabelEncoder()\n",
        "\n",
        "data['In-app Purchases'] = data['In-app Purchases'].fillna(0, axis=0)\n",
        "data.loc[data['In-app Purchases'] != 0, 'In-app Purchases'] = 1\n",
        "\n",
        "data = data.dropna() #이외의 결측값이 존재한다면 제거한다.\n",
        "data['In-app Purchases'] = le.fit_transform(data['In-app Purchases'])\n",
        "data['In-app Purchases'].value_counts()"
      ],
      "metadata": {
        "colab": {
          "base_uri": "https://localhost:8080/"
        },
        "id": "jyg1O9rsv-gs",
        "outputId": "6be8a12b-8c17-4f56-b1db-b1c99d175d02"
      },
      "execution_count": 6,
      "outputs": [
        {
          "output_type": "stream",
          "name": "stderr",
          "text": [
            "/usr/local/lib/python3.7/dist-packages/ipykernel_launcher.py:4: SettingWithCopyWarning: \n",
            "A value is trying to be set on a copy of a slice from a DataFrame.\n",
            "Try using .loc[row_indexer,col_indexer] = value instead\n",
            "\n",
            "See the caveats in the documentation: https://pandas.pydata.org/pandas-docs/stable/user_guide/indexing.html#returning-a-view-versus-a-copy\n",
            "  after removing the cwd from sys.path.\n",
            "/usr/local/lib/python3.7/dist-packages/pandas/core/indexing.py:1763: SettingWithCopyWarning: \n",
            "A value is trying to be set on a copy of a slice from a DataFrame.\n",
            "Try using .loc[row_indexer,col_indexer] = value instead\n",
            "\n",
            "See the caveats in the documentation: https://pandas.pydata.org/pandas-docs/stable/user_guide/indexing.html#returning-a-view-versus-a-copy\n",
            "  isetter(loc, value)\n",
            "/usr/local/lib/python3.7/dist-packages/ipykernel_launcher.py:8: SettingWithCopyWarning: \n",
            "A value is trying to be set on a copy of a slice from a DataFrame.\n",
            "Try using .loc[row_indexer,col_indexer] = value instead\n",
            "\n",
            "See the caveats in the documentation: https://pandas.pydata.org/pandas-docs/stable/user_guide/indexing.html#returning-a-view-versus-a-copy\n",
            "  \n"
          ]
        },
        {
          "output_type": "execute_result",
          "data": {
            "text/plain": [
              "1    4618\n",
              "0    2919\n",
              "Name: In-app Purchases, dtype: int64"
            ]
          },
          "metadata": {},
          "execution_count": 6
        }
      ]
    },
    {
      "cell_type": "markdown",
      "source": [
        "###Developer\n",
        "\n",
        "Developer의 경우, 게임을 2개 이하로 만든 Developer를 전부 ETC로 분류하였다. 그후, 모델링을 위해 LabelEncoding을 해주었다. 대다수를 차지하는 ETC를 제외한 분포를 표로 나타내면 다음과 같다."
      ],
      "metadata": {
        "id": "Mlx7Nxdrq3le"
      }
    },
    {
      "cell_type": "code",
      "source": [
        "\n",
        "for i in data['Developer']:\n",
        "  if data.loc[data['Developer'] == i, 'Developer'].count() < 3:\n",
        "    data.loc[data['Developer'] == i, 'Developer'] = 'ETC'"
      ],
      "metadata": {
        "id": "X1gsZg1-rZxL"
      },
      "execution_count": 7,
      "outputs": []
    },
    {
      "cell_type": "code",
      "source": [
        "import matplotlib.pyplot as plt\n",
        "data['Developer'].value_counts()[1:30].plot(kind = \"bar\")\n",
        "\n",
        "data['Developer'] = le.fit_transform(data.Developer)"
      ],
      "metadata": {
        "colab": {
          "base_uri": "https://localhost:8080/",
          "height": 476
        },
        "id": "clJ2bn0S0vLq",
        "outputId": "ccead881-d8aa-4ca9-8e9d-2a6f128894c9"
      },
      "execution_count": 8,
      "outputs": [
        {
          "output_type": "display_data",
          "data": {
            "image/png": "[encoded data removed]",
            "text/plain": [
              "<Figure size 432x288 with 1 Axes>"
            ]
          },
          "metadata": {
            "needs_background": "light"
          }
        }
      ]
    },
    {
      "cell_type": "markdown",
      "source": [
        "### Genres\n",
        "\n",
        "장르의 경우, 한 instance 안에 여러 개의 장르를이 저장되어 있다. 먼저 이를 반점을 기준으로 순서대로 분리해준 후, 첫 번째 장르는 거의 항상 Games이므로 큰 의미를 가지지 않는다. 따라서 두 번째에 표기된 장르를 대표 장르로 채택하여 data['Genre']에 저장한다. 이후 모델링을 위해 LabelEncoding 한다. "
      ],
      "metadata": {
        "id": "ypukRT1froO3"
      }
    },
    {
      "cell_type": "code",
      "source": [
        "#장르를 ','을 기준으로 분할하였다.\n",
        "Genres_split = data['Genres'].str.split(',')\n",
        "Genres_split = Genres_split.apply(lambda x: pd.Series(x))\n",
        "Genres_split\n"
      ],
      "metadata": {
        "colab": {
          "base_uri": "https://localhost:8080/",
          "height": 424
        },
        "id": "WZ0ZLpRp397I",
        "outputId": "4f4ec603-eb24-46db-cf41-2972ce4dc4d0"
      },
      "execution_count": 9,
      "outputs": [
        {
          "output_type": "execute_result",
          "data": {
            "text/html": [
              "\n",
              "  <div id=\"df-e28a47d4-8217-44da-87af-3634cb54f109\">\n",
              "    <div class=\"colab-df-container\">\n",
              "      <div>\n",
              "<style scoped>\n",
              "    .dataframe tbody tr th:only-of-type {\n",
              "        vertical-align: middle;\n",
              "    }\n",
              "\n",
              "    .dataframe tbody tr th {\n",
              "        vertical-align: top;\n",
              "    }\n",
              "\n",
              "    .dataframe thead th {\n",
              "        text-align: right;\n",
              "    }\n",
              "</style>\n",
              "<table border=\"1\" class=\"dataframe\">\n",
              "  <thead>\n",
              "    <tr style=\"text-align: right;\">\n",
              "      <th></th>\n",
              "      <th>0</th>\n",
              "      <th>1</th>\n",
              "      <th>2</th>\n",
              "      <th>3</th>\n",
              "      <th>4</th>\n",
              "      <th>5</th>\n",
              "    </tr>\n",
              "  </thead>\n",
              "  <tbody>\n",
              "    <tr>\n",
              "      <th>0</th>\n",
              "      <td>Games</td>\n",
              "      <td>Strategy</td>\n",
              "      <td>Puzzle</td>\n",
              "      <td>NaN</td>\n",
              "      <td>NaN</td>\n",
              "      <td>NaN</td>\n",
              "    </tr>\n",
              "    <tr>\n",
              "      <th>1</th>\n",
              "      <td>Games</td>\n",
              "      <td>Strategy</td>\n",
              "      <td>Board</td>\n",
              "      <td>NaN</td>\n",
              "      <td>NaN</td>\n",
              "      <td>NaN</td>\n",
              "    </tr>\n",
              "    <tr>\n",
              "      <th>2</th>\n",
              "      <td>Games</td>\n",
              "      <td>Board</td>\n",
              "      <td>Strategy</td>\n",
              "      <td>NaN</td>\n",
              "      <td>NaN</td>\n",
              "      <td>NaN</td>\n",
              "    </tr>\n",
              "    <tr>\n",
              "      <th>3</th>\n",
              "      <td>Games</td>\n",
              "      <td>Strategy</td>\n",
              "      <td>Puzzle</td>\n",
              "      <td>NaN</td>\n",
              "      <td>NaN</td>\n",
              "      <td>NaN</td>\n",
              "    </tr>\n",
              "    <tr>\n",
              "      <th>4</th>\n",
              "      <td>Games</td>\n",
              "      <td>Strategy</td>\n",
              "      <td>Board</td>\n",
              "      <td>Education</td>\n",
              "      <td>NaN</td>\n",
              "      <td>NaN</td>\n",
              "    </tr>\n",
              "    <tr>\n",
              "      <th>...</th>\n",
              "      <td>...</td>\n",
              "      <td>...</td>\n",
              "      <td>...</td>\n",
              "      <td>...</td>\n",
              "      <td>...</td>\n",
              "      <td>...</td>\n",
              "    </tr>\n",
              "    <tr>\n",
              "      <th>16950</th>\n",
              "      <td>Games</td>\n",
              "      <td>Strategy</td>\n",
              "      <td>Entertainment</td>\n",
              "      <td>Puzzle</td>\n",
              "      <td>NaN</td>\n",
              "      <td>NaN</td>\n",
              "    </tr>\n",
              "    <tr>\n",
              "      <th>16956</th>\n",
              "      <td>Games</td>\n",
              "      <td>Entertainment</td>\n",
              "      <td>Action</td>\n",
              "      <td>Strategy</td>\n",
              "      <td>NaN</td>\n",
              "      <td>NaN</td>\n",
              "    </tr>\n",
              "    <tr>\n",
              "      <th>16962</th>\n",
              "      <td>Games</td>\n",
              "      <td>Simulation</td>\n",
              "      <td>Strategy</td>\n",
              "      <td>NaN</td>\n",
              "      <td>NaN</td>\n",
              "      <td>NaN</td>\n",
              "    </tr>\n",
              "    <tr>\n",
              "      <th>16967</th>\n",
              "      <td>Games</td>\n",
              "      <td>Simulation</td>\n",
              "      <td>Strategy</td>\n",
              "      <td>NaN</td>\n",
              "      <td>NaN</td>\n",
              "      <td>NaN</td>\n",
              "    </tr>\n",
              "    <tr>\n",
              "      <th>16993</th>\n",
              "      <td>Games</td>\n",
              "      <td>Strategy</td>\n",
              "      <td>Board</td>\n",
              "      <td>Utilities</td>\n",
              "      <td>NaN</td>\n",
              "      <td>NaN</td>\n",
              "    </tr>\n",
              "  </tbody>\n",
              "</table>\n",
              "<p>7537 rows × 6 columns</p>\n",
              "</div>\n",
              "      <button class=\"colab-df-convert\" onclick=\"convertToInteractive('df-e28a47d4-8217-44da-87af-3634cb54f109')\"\n",
              "              title=\"Convert this dataframe to an interactive table.\"\n",
              "              style=\"display:none;\">\n",
              "        \n",
              "  <svg xmlns=\"http://www.w3.org/2000/svg\" height=\"24px\"viewBox=\"0 0 24 24\"\n",
              "       width=\"24px\">\n",
              "    <path d=\"M0 0h24v24H0V0z\" fill=\"none\"/>\n",
              "    <path d=\"M18.56 5.44l.94 2.06.94-2.06 2.06-.94-2.06-.94-.94-2.06-.94 2.06-2.06.94zm-11 1L8.5 8.5l.94-2.06 2.06-.94-2.06-.94L8.5 2.5l-.94 2.06-2.06.94zm10 10l.94 2.06.94-2.06 2.06-.94-2.06-.94-.94-2.06-.94 2.06-2.06.94z\"/><path d=\"M17.41 7.96l-1.37-1.37c-.4-.4-.92-.59-1.43-.59-.52 0-1.04.2-1.43.59L10.3 9.45l-7.72 7.72c-.78.78-.78 2.05 0 2.83L4 21.41c.39.39.9.59 1.41.59.51 0 1.02-.2 1.41-.59l7.78-7.78 2.81-2.81c.8-.78.8-2.07 0-2.86zM5.41 20L4 18.59l7.72-7.72 1.47 1.35L5.41 20z\"/>\n",
              "  </svg>\n",
              "      </button>\n",
              "      \n",
              "  <style>\n",
              "    .colab-df-container {\n",
              "      display:flex;\n",
              "      flex-wrap:wrap;\n",
              "      gap: 12px;\n",
              "    }\n",
              "\n",
              "    .colab-df-convert {\n",
              "      background-color: #E8F0FE;\n",
              "      border: none;\n",
              "      border-radius: 50%;\n",
              "      cursor: pointer;\n",
              "      display: none;\n",
              "      fill: #1967D2;\n",
              "      height: 32px;\n",
              "      padding: 0 0 0 0;\n",
              "      width: 32px;\n",
              "    }\n",
              "\n",
              "    .colab-df-convert:hover {\n",
              "      background-color: #E2EBFA;\n",
              "      box-shadow: 0px 1px 2px rgba(60, 64, 67, 0.3), 0px 1px 3px 1px rgba(60, 64, 67, 0.15);\n",
              "      fill: #174EA6;\n",
              "    }\n",
              "\n",
              "    [theme=dark] .colab-df-convert {\n",
              "      background-color: #3B4455;\n",
              "      fill: #D2E3FC;\n",
              "    }\n",
              "\n",
              "    [theme=dark] .colab-df-convert:hover {\n",
              "      background-color: #434B5C;\n",
              "      box-shadow: 0px 1px 3px 1px rgba(0, 0, 0, 0.15);\n",
              "      filter: drop-shadow(0px 1px 2px rgba(0, 0, 0, 0.3));\n",
              "      fill: #FFFFFF;\n",
              "    }\n",
              "  </style>\n",
              "\n",
              "      <script>\n",
              "        const buttonEl =\n",
              "          document.querySelector('#df-e28a47d4-8217-44da-87af-3634cb54f109 button.colab-df-convert');\n",
              "        buttonEl.style.display =\n",
              "          google.colab.kernel.accessAllowed ? 'block' : 'none';\n",
              "\n",
              "        async function convertToInteractive(key) {\n",
              "          const element = document.querySelector('#df-e28a47d4-8217-44da-87af-3634cb54f109');\n",
              "          const dataTable =\n",
              "            await google.colab.kernel.invokeFunction('convertToInteractive',\n",
              "                                                     [key], {});\n",
              "          if (!dataTable) return;\n",
              "\n",
              "          const docLinkHtml = 'Like what you see? Visit the ' +\n",
              "            '<a target=\"_blank\" href=https://colab.research.google.com/notebooks/data_table.ipynb>data table notebook</a>'\n",
              "            + ' to learn more about interactive tables.';\n",
              "          element.innerHTML = '';\n",
              "          dataTable['output_type'] = 'display_data';\n",
              "          await google.colab.output.renderOutput(dataTable, element);\n",
              "          const docLink = document.createElement('div');\n",
              "          docLink.innerHTML = docLinkHtml;\n",
              "          element.appendChild(docLink);\n",
              "        }\n",
              "      </script>\n",
              "    </div>\n",
              "  </div>\n",
              "  "
            ],
            "text/plain": [
              "           0               1               2           3    4    5\n",
              "0      Games        Strategy          Puzzle         NaN  NaN  NaN\n",
              "1      Games        Strategy           Board         NaN  NaN  NaN\n",
              "2      Games           Board        Strategy         NaN  NaN  NaN\n",
              "3      Games        Strategy          Puzzle         NaN  NaN  NaN\n",
              "4      Games        Strategy           Board   Education  NaN  NaN\n",
              "...      ...             ...             ...         ...  ...  ...\n",
              "16950  Games        Strategy   Entertainment      Puzzle  NaN  NaN\n",
              "16956  Games   Entertainment          Action    Strategy  NaN  NaN\n",
              "16962  Games      Simulation        Strategy         NaN  NaN  NaN\n",
              "16967  Games      Simulation        Strategy         NaN  NaN  NaN\n",
              "16993  Games        Strategy           Board   Utilities  NaN  NaN\n",
              "\n",
              "[7537 rows x 6 columns]"
            ]
          },
          "metadata": {},
          "execution_count": 9
        }
      ]
    },
    {
      "cell_type": "code",
      "source": [
        "Genre1 = Genres_split.loc[:, 1]\n",
        "data['Genre1'] = Genre1\n",
        "\n",
        "data['Genre1'].value_counts()[:20].plot(kind = \"bar\")\n",
        "data['Genre1'] = le.fit_transform(data.Genre1) # LabelEncoding"
      ],
      "metadata": {
        "colab": {
          "base_uri": "https://localhost:8080/",
          "height": 348
        },
        "id": "XAzaLWO0-tL7",
        "outputId": "36f72cb9-54aa-472c-a697-6a1895534174"
      },
      "execution_count": 10,
      "outputs": [
        {
          "output_type": "display_data",
          "data": {
            "image/png": "[encoded data removed]",
            "text/plain": [
              "<Figure size 432x288 with 1 Axes>"
            ]
          },
          "metadata": {
            "needs_background": "light"
          }
        }
      ]
    },
    {
      "cell_type": "markdown",
      "source": [
        "###Languages\n",
        "\n",
        "Language 또한 Genre처럼 여러 개의 언어를 지원하는 게임의 경우도 있으므로 이를 분리해주고, 그 개수를 Feature로 사용하기 위해 새로운 column 'num_languages'를 추가하여 저장하였다."
      ],
      "metadata": {
        "id": "U7BdfWuesbUL"
      }
    },
    {
      "cell_type": "code",
      "source": [
        "Languages_split =  data['Languages'].str.split(',')\n",
        "num_languages = []\n",
        "for i in Languages_split:\n",
        "  num_languages.append(len(i))\n",
        "data['num_languages'] = num_languages"
      ],
      "metadata": {
        "id": "2xgwF47nAvfF"
      },
      "execution_count": 11,
      "outputs": []
    },
    {
      "cell_type": "markdown",
      "source": [
        "###Size\n",
        "\n",
        "게임의 용량을 나타내는 Size의 단위가 byte이기 때문에 너무 큰 숫자로 나타나여, 이를 1048576으로 나누어 메가바이트로 환산해주었다. "
      ],
      "metadata": {
        "id": "j-2BT9DCsu14"
      }
    },
    {
      "cell_type": "code",
      "source": [
        "data['Size'] = data['Size'] / 1048576  #1MB = 2^20 Bytes"
      ],
      "metadata": {
        "id": "SlDPCLU5FDpd"
      },
      "execution_count": 12,
      "outputs": []
    },
    {
      "cell_type": "markdown",
      "source": [
        "###Original Release Date, Current Version Release Date\n",
        "\n",
        "월, 일까지 반영하면 종류가 지나치게 많아지므로, 출시일/최종 업데이트일의 연도만 추출하여 사용하였다. 이후 모델링을 위해 LabelEncoding을 진행하였다."
      ],
      "metadata": {
        "id": "5w5ONEGmyfX9"
      }
    },
    {
      "cell_type": "code",
      "source": [
        "release_split = data['Original Release Date'].str.split('/')\n",
        "release_split = release_split.apply(lambda x: pd.Series(x))\n",
        "\n",
        "current_split = data['Current Version Release Date'].str.split('/')\n",
        "current_split = current_split.apply(lambda x: pd.Series(x))\n",
        "\n",
        "data['released_year'] = release_split.loc[:, 2]\n",
        "data['cur_update_year'] = current_split.loc[:, 2]\n",
        "\n",
        "data['released_year'] = le.fit_transform(data['released_year'])\n",
        "data['cur_update_year'] = le.fit_transform(data['cur_update_year'])"
      ],
      "metadata": {
        "id": "xOKsOZ00ymeI"
      },
      "execution_count": 13,
      "outputs": []
    },
    {
      "cell_type": "markdown",
      "source": [
        "### Average User Rating\n",
        "\n",
        "기존 Average User Rating은 float의 형태로, 0.5 단위로 나타난다. 그 빈도 수의 분포는 아래와 같다."
      ],
      "metadata": {
        "id": "fr2aICRGDUTB"
      }
    },
    {
      "cell_type": "code",
      "source": [
        "data['Average User Rating'].value_counts()"
      ],
      "metadata": {
        "colab": {
          "base_uri": "https://localhost:8080/"
        },
        "id": "vItHSL1WN42U",
        "outputId": "857451f6-5c47-4679-a9e6-2522fcea40ba"
      },
      "execution_count": 14,
      "outputs": [
        {
          "output_type": "execute_result",
          "data": {
            "text/plain": [
              "4.5    2852\n",
              "4.0    1719\n",
              "5.0     986\n",
              "3.5     923\n",
              "3.0     513\n",
              "2.5     314\n",
              "2.0     156\n",
              "1.5      60\n",
              "1.0      14\n",
              "Name: Average User Rating, dtype: int64"
            ]
          },
          "metadata": {},
          "execution_count": 14
        }
      ]
    },
    {
      "cell_type": "markdown",
      "source": [
        "Average User Rating이 4.0 이상의 instance가 대부분을 차지하는 것을 확인할 수 있다. 이후 Classifier에 적용하기 쉽게 하기 위해서, 평점이 2.5 미만이면 부정적, 2.5이상 3.5이하이면 중립적, 그 이상이면 긍정적으로 범주화하였다. 즉, 평점이 1.0, 1.5, 2.0인 경우 1로, 2.5, 3.0, 3.5인 경우 2로, 4.0, 4.5, 5.0인 경우 3으로 replace해주었다."
      ],
      "metadata": {
        "id": "3r-QqLJAt3k-"
      }
    },
    {
      "cell_type": "code",
      "source": [
        "data = data.replace({'Average User Rating' : {1.0 : 1, 1.5 : 1, 2.0 : 1, 2.5 : 2, 3.0 : 2, 3.5 : 2, 4.0 : 3, 4.5 : 3, 5.0 : 3}})"
      ],
      "metadata": {
        "id": "Y9_h1XxqOjm7"
      },
      "execution_count": 15,
      "outputs": []
    },
    {
      "cell_type": "markdown",
      "source": [
        "전처리를 모두 마친 dataset의 모양은 다음과 같다."
      ],
      "metadata": {
        "id": "uBPeNgtQE06Y"
      }
    },
    {
      "cell_type": "code",
      "source": [
        "#사용할 feature들로 새로운 dataframe을 만든다.\n",
        "data_model = data[['Price', 'In-app Purchases', 'Size', 'Genre1', 'Developer', 'num_languages', 'released_year', 'cur_update_year', 'Average User Rating']] \n",
        "\n",
        "data_model.head()"
      ],
      "metadata": {
        "colab": {
          "base_uri": "https://localhost:8080/",
          "height": 206
        },
        "id": "9UaRj8q9Ez-f",
        "outputId": "185d0484-2d42-4086-c15b-3ec73f120fdf"
      },
      "execution_count": 16,
      "outputs": [
        {
          "output_type": "execute_result",
          "data": {
            "text/html": [
              "\n",
              "  <div id=\"df-048aea1a-bd01-4f69-8cf0-8bfbcc6010a7\">\n",
              "    <div class=\"colab-df-container\">\n",
              "      <div>\n",
              "<style scoped>\n",
              "    .dataframe tbody tr th:only-of-type {\n",
              "        vertical-align: middle;\n",
              "    }\n",
              "\n",
              "    .dataframe tbody tr th {\n",
              "        vertical-align: top;\n",
              "    }\n",
              "\n",
              "    .dataframe thead th {\n",
              "        text-align: right;\n",
              "    }\n",
              "</style>\n",
              "<table border=\"1\" class=\"dataframe\">\n",
              "  <thead>\n",
              "    <tr style=\"text-align: right;\">\n",
              "      <th></th>\n",
              "      <th>Price</th>\n",
              "      <th>In-app Purchases</th>\n",
              "      <th>Size</th>\n",
              "      <th>Genre1</th>\n",
              "      <th>Developer</th>\n",
              "      <th>num_languages</th>\n",
              "      <th>released_year</th>\n",
              "      <th>cur_update_year</th>\n",
              "      <th>Average User Rating</th>\n",
              "    </tr>\n",
              "  </thead>\n",
              "  <tbody>\n",
              "    <tr>\n",
              "      <th>0</th>\n",
              "      <td>2.99</td>\n",
              "      <td>0</td>\n",
              "      <td>15.119141</td>\n",
              "      <td>30</td>\n",
              "      <td>322</td>\n",
              "      <td>17</td>\n",
              "      <td>0</td>\n",
              "      <td>2017</td>\n",
              "      <td>3.0</td>\n",
              "    </tr>\n",
              "    <tr>\n",
              "      <th>1</th>\n",
              "      <td>1.99</td>\n",
              "      <td>0</td>\n",
              "      <td>11.757812</td>\n",
              "      <td>30</td>\n",
              "      <td>150</td>\n",
              "      <td>1</td>\n",
              "      <td>0</td>\n",
              "      <td>2018</td>\n",
              "      <td>2.0</td>\n",
              "    </tr>\n",
              "    <tr>\n",
              "      <th>2</th>\n",
              "      <td>0.00</td>\n",
              "      <td>0</td>\n",
              "      <td>0.643555</td>\n",
              "      <td>2</td>\n",
              "      <td>150</td>\n",
              "      <td>1</td>\n",
              "      <td>0</td>\n",
              "      <td>2017</td>\n",
              "      <td>2.0</td>\n",
              "    </tr>\n",
              "    <tr>\n",
              "      <th>3</th>\n",
              "      <td>0.00</td>\n",
              "      <td>0</td>\n",
              "      <td>20.553711</td>\n",
              "      <td>30</td>\n",
              "      <td>322</td>\n",
              "      <td>17</td>\n",
              "      <td>0</td>\n",
              "      <td>2017</td>\n",
              "      <td>2.0</td>\n",
              "    </tr>\n",
              "    <tr>\n",
              "      <th>4</th>\n",
              "      <td>2.99</td>\n",
              "      <td>0</td>\n",
              "      <td>33.082031</td>\n",
              "      <td>30</td>\n",
              "      <td>150</td>\n",
              "      <td>15</td>\n",
              "      <td>0</td>\n",
              "      <td>2018</td>\n",
              "      <td>2.0</td>\n",
              "    </tr>\n",
              "  </tbody>\n",
              "</table>\n",
              "</div>\n",
              "      <button class=\"colab-df-convert\" onclick=\"convertToInteractive('df-048aea1a-bd01-4f69-8cf0-8bfbcc6010a7')\"\n",
              "              title=\"Convert this dataframe to an interactive table.\"\n",
              "              style=\"display:none;\">\n",
              "        \n",
              "  <svg xmlns=\"http://www.w3.org/2000/svg\" height=\"24px\"viewBox=\"0 0 24 24\"\n",
              "       width=\"24px\">\n",
              "    <path d=\"M0 0h24v24H0V0z\" fill=\"none\"/>\n",
              "    <path d=\"M18.56 5.44l.94 2.06.94-2.06 2.06-.94-2.06-.94-.94-2.06-.94 2.06-2.06.94zm-11 1L8.5 8.5l.94-2.06 2.06-.94-2.06-.94L8.5 2.5l-.94 2.06-2.06.94zm10 10l.94 2.06.94-2.06 2.06-.94-2.06-.94-.94-2.06-.94 2.06-2.06.94z\"/><path d=\"M17.41 7.96l-1.37-1.37c-.4-.4-.92-.59-1.43-.59-.52 0-1.04.2-1.43.59L10.3 9.45l-7.72 7.72c-.78.78-.78 2.05 0 2.83L4 21.41c.39.39.9.59 1.41.59.51 0 1.02-.2 1.41-.59l7.78-7.78 2.81-2.81c.8-.78.8-2.07 0-2.86zM5.41 20L4 18.59l7.72-7.72 1.47 1.35L5.41 20z\"/>\n",
              "  </svg>\n",
              "      </button>\n",
              "      \n",
              "  <style>\n",
              "    .colab-df-container {\n",
              "      display:flex;\n",
              "      flex-wrap:wrap;\n",
              "      gap: 12px;\n",
              "    }\n",
              "\n",
              "    .colab-df-convert {\n",
              "      background-color: #E8F0FE;\n",
              "      border: none;\n",
              "      border-radius: 50%;\n",
              "      cursor: pointer;\n",
              "      display: none;\n",
              "      fill: #1967D2;\n",
              "      height: 32px;\n",
              "      padding: 0 0 0 0;\n",
              "      width: 32px;\n",
              "    }\n",
              "\n",
              "    .colab-df-convert:hover {\n",
              "      background-color: #E2EBFA;\n",
              "      box-shadow: 0px 1px 2px rgba(60, 64, 67, 0.3), 0px 1px 3px 1px rgba(60, 64, 67, 0.15);\n",
              "      fill: #174EA6;\n",
              "    }\n",
              "\n",
              "    [theme=dark] .colab-df-convert {\n",
              "      background-color: #3B4455;\n",
              "      fill: #D2E3FC;\n",
              "    }\n",
              "\n",
              "    [theme=dark] .colab-df-convert:hover {\n",
              "      background-color: #434B5C;\n",
              "      box-shadow: 0px 1px 3px 1px rgba(0, 0, 0, 0.15);\n",
              "      filter: drop-shadow(0px 1px 2px rgba(0, 0, 0, 0.3));\n",
              "      fill: #FFFFFF;\n",
              "    }\n",
              "  </style>\n",
              "\n",
              "      <script>\n",
              "        const buttonEl =\n",
              "          document.querySelector('#df-048aea1a-bd01-4f69-8cf0-8bfbcc6010a7 button.colab-df-convert');\n",
              "        buttonEl.style.display =\n",
              "          google.colab.kernel.accessAllowed ? 'block' : 'none';\n",
              "\n",
              "        async function convertToInteractive(key) {\n",
              "          const element = document.querySelector('#df-048aea1a-bd01-4f69-8cf0-8bfbcc6010a7');\n",
              "          const dataTable =\n",
              "            await google.colab.kernel.invokeFunction('convertToInteractive',\n",
              "                                                     [key], {});\n",
              "          if (!dataTable) return;\n",
              "\n",
              "          const docLinkHtml = 'Like what you see? Visit the ' +\n",
              "            '<a target=\"_blank\" href=https://colab.research.google.com/notebooks/data_table.ipynb>data table notebook</a>'\n",
              "            + ' to learn more about interactive tables.';\n",
              "          element.innerHTML = '';\n",
              "          dataTable['output_type'] = 'display_data';\n",
              "          await google.colab.output.renderOutput(dataTable, element);\n",
              "          const docLink = document.createElement('div');\n",
              "          docLink.innerHTML = docLinkHtml;\n",
              "          element.appendChild(docLink);\n",
              "        }\n",
              "      </script>\n",
              "    </div>\n",
              "  </div>\n",
              "  "
            ],
            "text/plain": [
              "   Price  In-app Purchases  ...  cur_update_year  Average User Rating\n",
              "0   2.99                 0  ...             2017                  3.0\n",
              "1   1.99                 0  ...             2018                  2.0\n",
              "2   0.00                 0  ...             2017                  2.0\n",
              "3   0.00                 0  ...             2017                  2.0\n",
              "4   2.99                 0  ...             2018                  2.0\n",
              "\n",
              "[5 rows x 9 columns]"
            ]
          },
          "metadata": {},
          "execution_count": 16
        }
      ]
    },
    {
      "cell_type": "markdown",
      "source": [
        "##4. MLPClassifier\n"
      ],
      "metadata": {
        "id": "SGa-sjMDU4dd"
      }
    },
    {
      "cell_type": "markdown",
      "source": [
        "### Train-test split\n",
        "\n",
        "dataset의 3분의 1을 Test set으로, 나머지를 Train set으로 split하였다."
      ],
      "metadata": {
        "id": "GKu6Kt9IVYG-"
      }
    },
    {
      "cell_type": "code",
      "source": [
        "from sklearn.model_selection import train_test_split\n",
        "\n",
        "y = data_model[['Average User Rating']].to_numpy().ravel()\n",
        "x = data_model.drop(columns=['Average User Rating'])\n",
        "\n",
        "x_train, x_test, y_train, y_test = train_test_split(x, y, test_size=.3)"
      ],
      "metadata": {
        "id": "RZTLgGv7VC7g"
      },
      "execution_count": 17,
      "outputs": []
    },
    {
      "cell_type": "markdown",
      "source": [
        "아무런 파라미터도 조정하지 않은 base MLPClassifier model을 생성하고 트레이닝하여 정확도를 확인하였다."
      ],
      "metadata": {
        "id": "GxyRpkweVmsQ"
      }
    },
    {
      "cell_type": "code",
      "source": [
        "from sklearn.neural_network import MLPClassifier\n",
        "base = MLPClassifier().fit(x_train, y_train)\n",
        "base.score(x_test, y_test)"
      ],
      "metadata": {
        "colab": {
          "base_uri": "https://localhost:8080/"
        },
        "id": "mEJuaTSdVD-F",
        "outputId": "c2485805-9e04-4976-df1d-3c8d7f042a1b"
      },
      "execution_count": 19,
      "outputs": [
        {
          "output_type": "execute_result",
          "data": {
            "text/plain": [
              "0.7144120247568524"
            ]
          },
          "metadata": {},
          "execution_count": 19
        }
      ]
    },
    {
      "cell_type": "markdown",
      "source": [
        "###Adjusting the parameters\n",
        "파라미터의 조절을 위해, lr_inits와 max_iters 배열을 만들어서 for문을 통해 가장 성능이 높은 파라미터들을 찾아보았다."
      ],
      "metadata": {
        "id": "C-9wivJcYNah"
      }
    },
    {
      "cell_type": "code",
      "source": [
        "lr_inits = [0.0005, 0.001, 0.0015]\n",
        "max_iters = [800, 1000, 1200]\n",
        "\n",
        "from sklearn.model_selection import KFold\n",
        "score = np.zeros((3, 3))\n",
        "kf = KFold(n_splits=5) #Train data set의 5분의 1을 validation set으로 사용한다.\n",
        "\n",
        "lr_index = 0\n",
        "iter_index = 0\n",
        "for learning_rate_init in lr_inits:\n",
        "  iter_index = 0\n",
        "  for max_iter in max_iters:\n",
        "    mlp_accuracy = np.array([])\n",
        "    for train_index, val_index in kf.split(x_train):\n",
        "      x_train_cv, x_val_cv = x_train.iloc[train_index], x_train.iloc[val_index]\n",
        "      y_train_cv, y_val_cv = y_train[train_index], y_train[val_index]\n",
        "      mlp = MLPClassifier(learning_rate_init = learning_rate_init, max_iter = max_iter)\n",
        "      mlp.fit(x_train_cv, y_train_cv)\n",
        "      mlp_accuracy = np.append(mlp_accuracy, mlp.score(x_val_cv, y_val_cv))\n",
        "    score[lr_index, iter_index] = mlp_accuracy.mean()\n",
        "    iter_index += 1\n",
        "  lr_index += 1    \n",
        "score"
      ],
      "metadata": {
        "colab": {
          "base_uri": "https://localhost:8080/"
        },
        "id": "5Mz99qWQWiKc",
        "outputId": "7bf6888e-45fd-4443-f3c5-63f866c115c8"
      },
      "execution_count": 20,
      "outputs": [
        {
          "output_type": "execute_result",
          "data": {
            "text/plain": [
              "array([[0.71753555, 0.63810427, 0.71241706],\n",
              "       [0.70350711, 0.64056872, 0.73838863],\n",
              "       [0.53023697, 0.62085308, 0.58635071]])"
            ]
          },
          "metadata": {},
          "execution_count": 20
        }
      ]
    },
    {
      "cell_type": "code",
      "source": [
        "mlp = MLPClassifier(learning_rate_init = 0.0015, max_iter = 1200)\n",
        "mlp.fit(x_train, y_train)\n",
        "mlp.score(x_test, y_test)"
      ],
      "metadata": {
        "colab": {
          "base_uri": "https://localhost:8080/"
        },
        "id": "FPyKYW17bafd",
        "outputId": "e8cbac06-7e84-4f89-da7e-b4760f532ddb"
      },
      "execution_count": 21,
      "outputs": [
        {
          "output_type": "execute_result",
          "data": {
            "text/plain": [
              "0.7325375773651636"
            ]
          },
          "metadata": {},
          "execution_count": 21
        }
      ]
    },
    {
      "cell_type": "markdown",
      "source": [
        "기존 base 모델보다 정확도가 올라간 것을 확인할 수 있다."
      ],
      "metadata": {
        "id": "RaTBGWFKb3cx"
      }
    },
    {
      "cell_type": "markdown",
      "source": [
        "### Feature Selection"
      ],
      "metadata": {
        "id": "avMh6CZAcGtW"
      }
    },
    {
      "cell_type": "code",
      "source": [
        "from sklearn.feature_selection import SelectKBest, chi2\n",
        "\n",
        "X_new = SelectKBest(chi2, k=3).fit_transform(x, y)\n",
        "x_train_new, x_test_new, y_train_new, y_test_new = train_test_split(X_new, y, test_size=.3)\n",
        "\n",
        "score = MLPClassifier(learning_rate_init = 0.0015, max_iter = 1200).fit(x_train_new, y_train_new).score(x_test_new, y_test_new)\n",
        "print(score)"
      ],
      "metadata": {
        "colab": {
          "base_uri": "https://localhost:8080/"
        },
        "id": "zXsHN3FkcFUp",
        "outputId": "aa9985a3-f0e4-4134-bdfa-e120db396c1c"
      },
      "execution_count": 22,
      "outputs": [
        {
          "output_type": "stream",
          "name": "stdout",
          "text": [
            "0.748894783377542\n"
          ]
        }
      ]
    },
    {
      "cell_type": "markdown",
      "source": [
        "Fiture Selection을 시행한 후 정확도가 기존의 training set을 사용하였을 때보다 높아진 것을 확인할 수 있다."
      ],
      "metadata": {
        "id": "cSDE544eckin"
      }
    },
    {
      "cell_type": "markdown",
      "source": [
        "##5. K-Neighbors Classifier"
      ],
      "metadata": {
        "id": "LNT4_hmZ1SsC"
      }
    },
    {
      "cell_type": "markdown",
      "source": [
        "두 번째로 선정한 모델은 sklearn에서 제공하는 KNeighborsClassifier이다. KNN Classifier를 모델로 선택한 이유는, 먼저 주어진 데이터셋에서 선형성을 찾기 힘들 거라고 생각하여 non-linear classifier인 KNN이 유리할 것이라고 예상했기 때문이다. 또, 데이터셋의 연관성에 대한 큰 이해가 없어도 학습 데이터들 간의 거리를 통해 예측을 진행하기 때문에 좀 더 편하게 학습이 가능할 것이라고 예측했다."
      ],
      "metadata": {
        "id": "R5IxFElj5q4Z"
      }
    },
    {
      "cell_type": "markdown",
      "source": [
        "### Train-test split\n",
        "\n",
        "dataset의 3분의 1을 Test set으로, 나머지를 Train set으로 split하였다.\n"
      ],
      "metadata": {
        "id": "MXRi6qzDKNfR"
      }
    },
    {
      "cell_type": "code",
      "source": [
        "from sklearn.model_selection import train_test_split\n",
        "\n",
        "y = data_model[['Average User Rating']].to_numpy().ravel()\n",
        "x = data_model.drop(columns=['Average User Rating'])\n",
        "\n",
        "x_train, x_test, y_train, y_test = train_test_split(x, y, test_size=.3)"
      ],
      "metadata": {
        "id": "oof_J_zyO5uW"
      },
      "execution_count": 23,
      "outputs": []
    },
    {
      "cell_type": "markdown",
      "source": [
        "### Base Model\n",
        "\n",
        "feature, parameter의 조정 없이 base 모델을 만들었고, 해당 모델의 정확도를 출력하였다."
      ],
      "metadata": {
        "id": "ZmopGhpB5npp"
      }
    },
    {
      "cell_type": "code",
      "source": [
        "from sklearn.neighbors import KNeighborsClassifier\n",
        "\n",
        "base = KNeighborsClassifier()\n",
        "base.fit(x_train, y_train)\n",
        "\n",
        "base.score(x_test, y_test)"
      ],
      "metadata": {
        "colab": {
          "base_uri": "https://localhost:8080/"
        },
        "id": "S2igGhQwUe-s",
        "outputId": "c73b7cfd-0b3b-4b38-f8fb-e423f89ec3ba"
      },
      "execution_count": 24,
      "outputs": [
        {
          "output_type": "execute_result",
          "data": {
            "text/plain": [
              "0.7219274977895668"
            ]
          },
          "metadata": {},
          "execution_count": 24
        }
      ]
    },
    {
      "cell_type": "markdown",
      "source": [
        "### Adjusting the parameters\n",
        "모델 파라미터 중 n_neighbors의 조절을 위해 corss validation을 사용하였다. validation accuracy들의 평균이 가장 높은 n_neighbors 값을 선정하기 위해 for문을 사용하였다."
      ],
      "metadata": {
        "id": "UFtywX3fRfNZ"
      }
    },
    {
      "cell_type": "code",
      "source": [
        "from sklearn.model_selection import KFold\n",
        "\n",
        "n_neighbors_list = [7, 9, 11, 13, 15, 17, 19, 21, 25, 27]\n",
        "score = []\n",
        "\n",
        "kf = KFold(n_splits=5) #Train data set의 5분의 1을 validation set으로 사용한다.\n",
        "for k in n_neighbors_list:\n",
        "  knn_accuracy = np.array([])\n",
        "  for train_index, val_index in kf.split(x_train):\n",
        "    x_train_cv, x_val_cv = x_train.iloc[train_index], x_train.iloc[val_index]\n",
        "    y_train_cv, y_val_cv = y_train[train_index], y_train[val_index]\n",
        "    knn = KNeighborsClassifier(n_neighbors=k)\n",
        "    knn.fit(x_train_cv, y_train_cv)\n",
        "    knn_accuracy = np.append(knn_accuracy, knn.score(x_val_cv, y_val_cv))\n",
        "  score = np.append(score, knn_accuracy.mean())\n",
        "score\n"
      ],
      "metadata": {
        "colab": {
          "base_uri": "https://localhost:8080/"
        },
        "id": "uB_JPSYj7We3",
        "outputId": "fbd895fb-4289-475c-d64a-449a08063717"
      },
      "execution_count": 25,
      "outputs": [
        {
          "output_type": "execute_result",
          "data": {
            "text/plain": [
              "array([0.7228436 , 0.72758294, 0.72890995, 0.72872038, 0.73156398,\n",
              "       0.73725118, 0.7385782 , 0.73914692, 0.74047393, 0.74085308])"
            ]
          },
          "metadata": {},
          "execution_count": 25
        }
      ]
    },
    {
      "cell_type": "code",
      "source": [
        "print(np.argmax(score))"
      ],
      "metadata": {
        "colab": {
          "base_uri": "https://localhost:8080/"
        },
        "id": "6ZHDc1yTNDPf",
        "outputId": "80330657-fc78-41fb-9118-ce88d54ade0c"
      },
      "execution_count": 26,
      "outputs": [
        {
          "output_type": "stream",
          "name": "stdout",
          "text": [
            "9\n"
          ]
        }
      ]
    },
    {
      "cell_type": "markdown",
      "source": [
        "가장 성능이 높은 모델의 n_neighbors = 27이다."
      ],
      "metadata": {
        "id": "w6sKgiI2NJ7U"
      }
    },
    {
      "cell_type": "code",
      "source": [
        "knn = KNeighborsClassifier(n_neighbors=27)\n",
        "knn.fit(x_train, y_train)\n",
        "knn.score(x_test, y_test)"
      ],
      "metadata": {
        "colab": {
          "base_uri": "https://localhost:8080/"
        },
        "id": "zZRMyOirSLKc",
        "outputId": "6294af7d-e055-492c-cb42-623d531e4380"
      },
      "execution_count": 27,
      "outputs": [
        {
          "output_type": "execute_result",
          "data": {
            "text/plain": [
              "0.7462422634836428"
            ]
          },
          "metadata": {},
          "execution_count": 27
        }
      ]
    },
    {
      "cell_type": "markdown",
      "source": [
        "base model의 score에 비해 성능이 더 좋아진 것을 확인할 수 있다."
      ],
      "metadata": {
        "id": "tQTfX8ELSW3V"
      }
    },
    {
      "cell_type": "markdown",
      "source": [
        "###Feature Selection\n",
        "\n",
        "영향력이 높은 feature 3개를 고르기 위해 Feature sklearn에서 제공하는 SelectBest와 chi2 테스트를 활용하여 가장 영향력이 높은 3개의 feature로 이루어진 새로운 training dataset X_new를 생성하였다.\n",
        "\n",
        "이후, 앞에서 뽑은 best parameter인 n_neighbors = 25를 파라미터로 가지는 KNNClassifier 모델을 선언하여 새로운 feature space로 training을 진행하고, 정확도가 올라간 것을 확인하였다."
      ],
      "metadata": {
        "id": "2_iOFAOiQFjJ"
      }
    },
    {
      "cell_type": "code",
      "source": [
        "from sklearn.feature_selection import SelectKBest, chi2\n",
        "\n",
        "X_new = SelectKBest(chi2, k=3).fit_transform(x, y)\n",
        "x_train_new, x_test_new, y_train_new, y_test_new = train_test_split(X_new, y, test_size=.3)\n",
        "\n",
        "score = KNeighborsClassifier(n_neighbors=27).fit(x_train_new, y_train_new).score(x_test_new, y_test_new)\n",
        "print(score)"
      ],
      "metadata": {
        "colab": {
          "base_uri": "https://localhost:8080/"
        },
        "id": "hFXmmbirLSph",
        "outputId": "177d02f3-53cb-4d5f-fa6d-00aea6be95a0"
      },
      "execution_count": 28,
      "outputs": [
        {
          "output_type": "stream",
          "name": "stdout",
          "text": [
            "0.7541998231653404\n"
          ]
        }
      ]
    },
    {
      "cell_type": "markdown",
      "source": [
        "##6. Ensemble - Bagging (K-Neighbors Classifier)\n",
        "\n",
        "BaggingClassifier에 KNeighborsClassifier(n_neighbors = 19) 모델을 50개 훈련하였다. 그리고 feature selection을 진행하기 전의 데이터와 후의 데이터를 각각 트레이닝하여 그 정확도를 비교해보았다."
      ],
      "metadata": {
        "id": "bhmUqSKGQJL7"
      }
    },
    {
      "cell_type": "code",
      "source": [
        "from sklearn.ensemble import BaggingClassifier\n",
        "\n",
        "bagging = BaggingClassifier(KNeighborsClassifier(n_neighbors = 27), n_estimators=50, oob_score=True, n_jobs=-1, random_state=40)\n",
        "bagging.fit(x_train, y_train)\n",
        "bagging.score(x_test, y_test)"
      ],
      "metadata": {
        "colab": {
          "base_uri": "https://localhost:8080/"
        },
        "id": "SnjtfowZgmkS",
        "outputId": "841f23cd-310a-407f-fcfa-2229182e02b8"
      },
      "execution_count": 29,
      "outputs": [
        {
          "output_type": "execute_result",
          "data": {
            "text/plain": [
              "0.748894783377542"
            ]
          },
          "metadata": {},
          "execution_count": 29
        }
      ]
    },
    {
      "cell_type": "code",
      "source": [
        "bagging.fit(x_train_new, y_train_new)\n",
        "bagging.score(x_test_new, y_test_new)"
      ],
      "metadata": {
        "colab": {
          "base_uri": "https://localhost:8080/"
        },
        "id": "jo8jTHhsHdze",
        "outputId": "890ef74b-82fb-4e5f-fd52-8b38c775a6a5"
      },
      "execution_count": 30,
      "outputs": [
        {
          "output_type": "execute_result",
          "data": {
            "text/plain": [
              "0.75552608311229"
            ]
          },
          "metadata": {},
          "execution_count": 30
        }
      ]
    },
    {
      "cell_type": "markdown",
      "source": [
        "feature selection을 진행한 데이터셋의 정확도가 더 높게 나온 것을 확인할 수 있다."
      ],
      "metadata": {
        "id": "bX8XxA2xTt2p"
      }
    },
    {
      "cell_type": "markdown",
      "source": [
        "## 결론\n"
      ],
      "metadata": {
        "id": "G7S1Y2TPVMun"
      }
    },
    {
      "cell_type": "markdown",
      "source": [
        "가장 정확도가 높았던 것은 BaggingClassifier에서 feature selection을 시행한 데이터셋을 인풋으로 넣은 모델로, 75.55%의 정확도를 보였다.\n",
        "\n",
        "\n",
        "**MLPClassifier**의 경우 일관된 성능이 나오지 않았는데, 이것은 사용한 데이터셋이 비선형적이었기 때문일 것이라고 추측할 수 있다. 그래서 이것을 근거로 비선형적 classifier인 **K-Neighbors classifier**를 사용하여 파라미터를 조정해보았고, 그것을 바탕으로 Ensemble 알고리즘의 **BaggingClassifier**를 사용하여 정확도를 비교하였다.\n",
        "\n",
        "\n",
        "모델의 전처리에 있어 어려움을 겪었다. 먼저, 만든 게임의 개수가 1개, 2개인 developer가 전체 중 대다수를 차지하였고, 또 장르도 Strategy에 편향된 경향이 있어 게임의 장르라는 feature가 학습에 주는 영향력을 제대로 나타내기 어려웠다.\n",
        "\n",
        "\n",
        "하지만 가지고 있던 데이터의 label이 3(긍정적)에 치우친 경향성이 있었기 때문에 1, 2의 라벨을 가진 데이터를 제대로 예측하는 모델의 생성이 어려웠을 것으로 추측한다. 이후 이 주제에 관해 추가 연구가 진행된다면, 좀 더 평점이 골고루 분포하는 dataset을 구하거나, 아니면 게임의 선호도를 더 정확하게 판단할 수 있는 label을 선정하는 것이 중요할 것이다."
      ],
      "metadata": {
        "id": "VV_BMUXTVzYM"
      }
    }
  ]
}
